{
 "cells": [
  {
   "cell_type": "code",
   "execution_count": null,
   "metadata": {},
   "outputs": [],
   "source": [
    "from bs4 import BeautifulSoup\n",
    "import os\n",
    "from datetime import datetime"
   ]
  },
  {
   "cell_type": "code",
   "execution_count": null,
   "metadata": {},
   "outputs": [],
   "source": [
    "print(\"hello\")"
   ]
  },
  {
   "cell_type": "code",
   "execution_count": null,
   "metadata": {},
   "outputs": [],
   "source": [
    "folder = \"c:/Users/Daniel/Documents/Archive/Facebook Data/messages/inbox/FREENEXTIDE_EbQwaw_iLQ/\"\n",
    "file_list = []\n",
    "nicknames = []\n",
    "message_list = []\n",
    "\n",
    "for filename in os.listdir(folder):\n",
    "    if filename.endswith('.html'):\n",
    "       fname = os.path.join(folder, filename)\n",
    "       file_list.append(fname)"
   ]
  },
  {
   "cell_type": "code",
   "execution_count": null,
   "metadata": {},
   "outputs": [],
   "source": [
    "for filename in file_list:\n",
    "\twith open(file_list[0], encoding='utf-8') as f:\n",
    "\t\tsoup = BeautifulSoup(f, 'html.parser')\n",
    "\tmessages = soup.find_all(class_='pam _3-95 _2pi0 _2lej uiBoxWhite noborder')\n",
    "\tfor message in messages[1:]:\n",
    "\t\tsender = message.contents[0].string\n",
    "\t\tcontent = message.contents[1].contents[0].contents[1].string\n",
    "\t\ttimestamp = datetime.strptime(str(message.contents[2].string), '%d %b %Y, %H:%M')\n",
    "\t\tmessage_dict = {\n",
    "\t\t\t'sender': sender,\n",
    "\t\t\t'content': content,\n",
    "\t\t\t'timestamp': timestamp\n",
    "\t\t}\n",
    "\t\tmessage_list.append(message_dict)\n",
    "\tprint(filename, len(message_list))"
   ]
  },
  {
   "cell_type": "code",
   "execution_count": null,
   "metadata": {},
   "outputs": [],
   "source": [
    "nick1 = 'set the nickname for'\n",
    "nick2 = 'set his own nickname'\n",
    "nick3 = 'set your nickname'\n",
    "\n",
    "for message_dict in message_list[1:]:\n",
    "\tcontent = message_dict['content']\n",
    "\tif not content:\n",
    "\t\tcontinue\n",
    "\tif 'nickname' in content:\n",
    "\t\tif nick1 in content:\n",
    "\t\t\t#You set the nickname for Theo Mohamed to Sheldon Cooper.\n",
    "\t\t\tnickname = content.split(nick1)[1].split(' to ')[1]\n",
    "\t\t\tname = content.split(nick1)[1].split(' to ')[0]\n",
    "\t\t\tprint(name, nickname)\n",
    "\t\t\tcontinue\n",
    "\t\tif nick2 in content:\n",
    "\t\t\t#Caelan set his own nickname to I shit on robby.\n",
    "\t\t\tnickname = content.split(nick2)[1].split(' to ')[1]\n",
    "\t\t\tprint(message_dict['sender'], nickname)\n",
    "\t\t\tcontinue\t\n",
    "\t\tif nick3 in content:\n",
    "\t\t\t#Ephedrine guy set your nickname to mollywog.\n",
    "\t\t\tnickname = content.split(nick3)[1].split(' to ')[1]\n",
    "\t\t\tprint('Daniel Kinahan', nickname)\n",
    "\t\t\tcontinue\n",
    "\t\t#print(content, timestamp)\n"
   ]
  }
 ],
 "metadata": {
  "kernelspec": {
   "display_name": "Python 3",
   "language": "python",
   "name": "python3"
  },
  "language_info": {
   "codemirror_mode": {
    "name": "ipython",
    "version": 3
   },
   "file_extension": ".py",
   "mimetype": "text/x-python",
   "name": "python",
   "nbconvert_exporter": "python",
   "pygments_lexer": "ipython3",
   "version": "3.10.6"
  }
 },
 "nbformat": 4,
 "nbformat_minor": 2
}
