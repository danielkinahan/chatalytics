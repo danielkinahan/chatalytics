{
 "cells": [
  {
   "cell_type": "code",
   "execution_count": null,
   "metadata": {},
   "outputs": [],
   "source": [
    "from bs4 import BeautifulSoup\n",
    "import os\n",
    "from datetime import datetime\n",
    "from natsort import os_sorted"
   ]
  },
  {
   "cell_type": "code",
   "execution_count": null,
   "metadata": {},
   "outputs": [],
   "source": [
    "folder = \"c:/Users/DANKINAH/Downloads/Personal/Messages/\" #Daniel/Documents/Archive/Facebook Data/messages/inbox/FREENEXTIDE_EbQwaw_iLQ/\"\n",
    "file_list = []\n",
    "message_set = set()\n",
    "message_list = []\n",
    "\n",
    "for filename in os.listdir(folder):\n",
    "    if filename.endswith('.html'):\n",
    "       fname = os.path.join(folder, filename)\n",
    "       file_list.append(fname)\n",
    "\n",
    "file_list = os_sorted(file_list)\n",
    "file_list.reverse()\n",
    "print(file_list)"
   ]
  },
  {
   "cell_type": "code",
   "execution_count": null,
   "metadata": {},
   "outputs": [],
   "source": [
    "for filename in file_list:\n",
    "\twith open(filename, encoding='utf-8') as f:\n",
    "\t\tsoup = BeautifulSoup(f, 'html.parser')\n",
    "\tcur_message_list = []\n",
    "\tmessages = soup.find_all(class_='pam _3-95 _2pi0 _2lej uiBoxWhite noborder')\n",
    "\tfor message in messages[1:]:\n",
    "\t\tsender = message.contents[0].string\n",
    "\t\tcontent = message.contents[1].contents[0].contents[1].string\n",
    "\t\ttimestamp = datetime.strptime(str(message.contents[2].string), '%d %b %Y, %H:%M')\n",
    "\t\tmessage_tuple = (sender,content,timestamp)\n",
    "\t\tcur_message_list.append(message_tuple)\n",
    "\tcur_message_list.reverse()\n",
    "\tmessage_list += cur_message_list\n",
    "\tprint(filename, len(message_list))"
   ]
  },
  {
   "cell_type": "code",
   "execution_count": null,
   "metadata": {},
   "outputs": [],
   "source": [
    "#Print nicknames for each member\n",
    "\n",
    "nick1 = 'set the nickname for'\n",
    "nick2 = 'set his own nickname'\n",
    "nick3 = 'set your nickname'\n",
    "\n",
    "nicknames = dict()\n",
    "\n",
    "for message_tuple in message_list:\n",
    "\tcontent = message_tuple[1]\n",
    "\tif not content:\n",
    "\t\tcontinue\n",
    "\tif 'nickname' in content:\n",
    "\t\tif nick1 in content:\n",
    "\t\t\tnickname = content.split(nick1)[1].split(' to ')[1][:-1]\n",
    "\t\t\tname = content.split(nick1)[1].split(' to ')[0][1:]\n",
    "\t\t\tif name not in nicknames:\n",
    "\t\t\t\tnicknames[name] = []\n",
    "\t\t\telse:\n",
    "\t\t\t\tnicknames[name].append(nickname)\n",
    "\t\t\tcontinue\n",
    "\t\tif nick2 in content:\n",
    "\t\t\tnickname = content.split(nick2)[1].split(' to ')[1][:-1]\n",
    "\t\t\tname = message_tuple[0]\n",
    "\t\t\tif name not in nicknames:\n",
    "\t\t\t\tnicknames[name] = []\n",
    "\t\t\telse:\n",
    "\t\t\t\tnicknames[name].append(nickname)\n",
    "\t\t\tcontinue\t\n",
    "\t\tif nick3 in content:\n",
    "\t\t\tnickname = content.split(nick3)[1].split(' to ')[1][:-1]\n",
    "\t\t\tname = 'Daniel Kinahan'\n",
    "\t\t\tif name not in nicknames:\n",
    "\t\t\t\tnicknames[name] = []\n",
    "\t\t\telse:\n",
    "\t\t\t\tnicknames[name].append(nickname)\n",
    "\t\t\tcontinue\n",
    "\n",
    "for name in nicknames.keys():\n",
    "    print(name + \": \" + ', '.join(nicknames[name]) + \"\\n\")"
   ]
  },
  {
   "cell_type": "code",
   "execution_count": null,
   "metadata": {},
   "outputs": [],
   "source": [
    "#Print amount each member has set a nickname\n",
    "\n",
    "nick = ['set the nickname for', 'set his own nickname', 'set your nickname']\n",
    "\n",
    "nicknames_setters = dict()\n",
    "\n",
    "for message_tuple in message_list:\n",
    "\tcontent = message_tuple[1]\n",
    "\tif not content:\n",
    "\t\tcontinue\n",
    "\tif any([x in content for x in nick]):\n",
    "\t\tname = message_tuple[0]\n",
    "\t\tif name not in nicknames_setters:\n",
    "\t\t\tnicknames_setters[name] = 0\n",
    "\t\telse:\n",
    "\t\t\tnicknames_setters[name] += 1\n",
    "\n",
    "print(nicknames_setters)"
   ]
  }
 ],
 "metadata": {
  "kernelspec": {
   "display_name": "Python 3",
   "language": "python",
   "name": "python3"
  },
  "language_info": {
   "codemirror_mode": {
    "name": "ipython",
    "version": 3
   },
   "file_extension": ".py",
   "mimetype": "text/x-python",
   "name": "python",
   "nbconvert_exporter": "python",
   "pygments_lexer": "ipython3",
   "version": "3.10.6"
  }
 },
 "nbformat": 4,
 "nbformat_minor": 2
}
