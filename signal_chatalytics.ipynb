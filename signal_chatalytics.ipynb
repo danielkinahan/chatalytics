{
 "cells": [
  {
   "cell_type": "code",
   "execution_count": 1,
   "metadata": {},
   "outputs": [],
   "source": [
    "import sqlite3\n",
    "import json"
   ]
  },
  {
   "cell_type": "code",
   "execution_count": 2,
   "metadata": {},
   "outputs": [],
   "source": [
    "con = sqlite3.connect(\"db_20191123-20221018.sqlite\")\n",
    "con.execute(\"ATTACH 'db_20200825-20211226.sqlite' as db_2\")\n",
    "con.execute(\"ATTACH 'db_20220104-20230518.sqlite' as db_3\")\n",
    "con.row_factory = sqlite3.Row\n",
    "cur = con.cursor()\n"
   ]
  },
  {
   "cell_type": "code",
   "execution_count": 3,
   "metadata": {},
   "outputs": [
    {
     "name": "stdout",
     "output_type": "stream",
     "text": [
      "[<sqlite3.Row object at 0x000002CC88CFBFA0>, <sqlite3.Row object at 0x000002CC88CF9C90>, <sqlite3.Row object at 0x000002CC88CFAF80>, <sqlite3.Row object at 0x000002CC88CFB730>, <sqlite3.Row object at 0x000002CC88CFAF20>, <sqlite3.Row object at 0x000002CC88CFBCD0>, <sqlite3.Row object at 0x000002CC88CFBA90>, <sqlite3.Row object at 0x000002CC88CF8A30>, <sqlite3.Row object at 0x000002CC88CFB880>, <sqlite3.Row object at 0x000002CC88CFB3A0>, <sqlite3.Row object at 0x000002CC88CFB250>, <sqlite3.Row object at 0x000002CC88CFAA40>, <sqlite3.Row object at 0x000002CC88CFB430>, <sqlite3.Row object at 0x000002CC88CF8040>, <sqlite3.Row object at 0x000002CC88CFBD60>, <sqlite3.Row object at 0x000002CC88CF8820>, <sqlite3.Row object at 0x000002CC88CF8070>, <sqlite3.Row object at 0x000002CC88CF82E0>, <sqlite3.Row object at 0x000002CC88CFB400>, <sqlite3.Row object at 0x000002CC88CF8A00>, <sqlite3.Row object at 0x000002CC88CF8AC0>, <sqlite3.Row object at 0x000002CC88CF9AB0>, <sqlite3.Row object at 0x000002CC88CF8940>, <sqlite3.Row object at 0x000002CC88CFB610>, <sqlite3.Row object at 0x000002CC88CFB7C0>, <sqlite3.Row object at 0x000002CC88CFB460>, <sqlite3.Row object at 0x000002CC88CF80A0>, <sqlite3.Row object at 0x000002CC88CFB280>, <sqlite3.Row object at 0x000002CC88CFB2E0>, <sqlite3.Row object at 0x000002CC88CFB340>, <sqlite3.Row object at 0x000002CC88CFBB80>, <sqlite3.Row object at 0x000002CC88CFBBE0>, <sqlite3.Row object at 0x000002CC88CFB8B0>, <sqlite3.Row object at 0x000002CC88CFB850>, <sqlite3.Row object at 0x000002CC88CF8B20>]\n",
      "[<sqlite3.Row object at 0x000002CC88C47C70>, <sqlite3.Row object at 0x000002CC88CFBFA0>, <sqlite3.Row object at 0x000002CC88CFAF80>, <sqlite3.Row object at 0x000002CC88CFB730>, <sqlite3.Row object at 0x000002CC88CFAF20>, <sqlite3.Row object at 0x000002CC88CFBCD0>, <sqlite3.Row object at 0x000002CC88CFBA90>, <sqlite3.Row object at 0x000002CC88CF8A30>, <sqlite3.Row object at 0x000002CC88CFB880>, <sqlite3.Row object at 0x000002CC88CFB3A0>, <sqlite3.Row object at 0x000002CC88CFB250>, <sqlite3.Row object at 0x000002CC88CFAA40>, <sqlite3.Row object at 0x000002CC88CFB430>, <sqlite3.Row object at 0x000002CC88CF8040>, <sqlite3.Row object at 0x000002CC88CFBD60>, <sqlite3.Row object at 0x000002CC88CF8820>, <sqlite3.Row object at 0x000002CC88CF8070>, <sqlite3.Row object at 0x000002CC88CF82E0>, <sqlite3.Row object at 0x000002CC88CFB400>, <sqlite3.Row object at 0x000002CC88CF8A00>, <sqlite3.Row object at 0x000002CC88CF8AC0>, <sqlite3.Row object at 0x000002CC88CF9AB0>, <sqlite3.Row object at 0x000002CC88CF8940>, <sqlite3.Row object at 0x000002CC88CFB610>, <sqlite3.Row object at 0x000002CC88CFB7C0>, <sqlite3.Row object at 0x000002CC88CFB460>, <sqlite3.Row object at 0x000002CC88CF80A0>, <sqlite3.Row object at 0x000002CC88CFB280>, <sqlite3.Row object at 0x000002CC88CFB2E0>, <sqlite3.Row object at 0x000002CC88CFB340>, <sqlite3.Row object at 0x000002CC88CFBB80>, <sqlite3.Row object at 0x000002CC88CFBBE0>, <sqlite3.Row object at 0x000002CC88CFB8B0>, <sqlite3.Row object at 0x000002CC88CFB850>, <sqlite3.Row object at 0x000002CC88CF8B20>, <sqlite3.Row object at 0x000002CC88CFBFD0>, <sqlite3.Row object at 0x000002CC889FF0A0>, <sqlite3.Row object at 0x000002CC889FDDE0>, <sqlite3.Row object at 0x000002CC889FD840>, <sqlite3.Row object at 0x000002CC889FF160>, <sqlite3.Row object at 0x000002CC889FD720>, <sqlite3.Row object at 0x000002CC889FD570>, <sqlite3.Row object at 0x000002CC889FDA20>, <sqlite3.Row object at 0x000002CC889FDC60>, <sqlite3.Row object at 0x000002CC889FD6F0>, <sqlite3.Row object at 0x000002CC88D50040>, <sqlite3.Row object at 0x000002CC88D500A0>, <sqlite3.Row object at 0x000002CC88D50100>, <sqlite3.Row object at 0x000002CC88D50160>, <sqlite3.Row object at 0x000002CC88D501C0>, <sqlite3.Row object at 0x000002CC88D50220>, <sqlite3.Row object at 0x000002CC88D50280>, <sqlite3.Row object at 0x000002CC88D502E0>, <sqlite3.Row object at 0x000002CC88D50340>, <sqlite3.Row object at 0x000002CC88D503A0>, <sqlite3.Row object at 0x000002CC88D50400>, <sqlite3.Row object at 0x000002CC88D50460>, <sqlite3.Row object at 0x000002CC88D504C0>, <sqlite3.Row object at 0x000002CC88D50520>, <sqlite3.Row object at 0x000002CC88D50580>, <sqlite3.Row object at 0x000002CC88D505E0>, <sqlite3.Row object at 0x000002CC88D50640>, <sqlite3.Row object at 0x000002CC88D506A0>, <sqlite3.Row object at 0x000002CC88D50700>, <sqlite3.Row object at 0x000002CC88D50760>, <sqlite3.Row object at 0x000002CC88D507C0>, <sqlite3.Row object at 0x000002CC88D50820>, <sqlite3.Row object at 0x000002CC88D50880>, <sqlite3.Row object at 0x000002CC88D508E0>, <sqlite3.Row object at 0x000002CC88D50940>, <sqlite3.Row object at 0x000002CC88D509A0>, <sqlite3.Row object at 0x000002CC88D50A00>, <sqlite3.Row object at 0x000002CC88D50A60>, <sqlite3.Row object at 0x000002CC88D50AC0>, <sqlite3.Row object at 0x000002CC88D50B20>, <sqlite3.Row object at 0x000002CC88D50B80>, <sqlite3.Row object at 0x000002CC88D50BE0>, <sqlite3.Row object at 0x000002CC88D50C40>, <sqlite3.Row object at 0x000002CC88D50CA0>, <sqlite3.Row object at 0x000002CC88D50D00>, <sqlite3.Row object at 0x000002CC88D50D60>, <sqlite3.Row object at 0x000002CC88D50DC0>]\n",
      "[<sqlite3.Row object at 0x000002CC88C47C70>, <sqlite3.Row object at 0x000002CC88CFBEE0>, <sqlite3.Row object at 0x000002CC88CFAF80>, <sqlite3.Row object at 0x000002CC88CFB730>, <sqlite3.Row object at 0x000002CC88CFAF20>, <sqlite3.Row object at 0x000002CC88CFBCD0>, <sqlite3.Row object at 0x000002CC88CFBA90>, <sqlite3.Row object at 0x000002CC88CF8A30>, <sqlite3.Row object at 0x000002CC88CFB880>, <sqlite3.Row object at 0x000002CC88CFB3A0>, <sqlite3.Row object at 0x000002CC88CFB250>, <sqlite3.Row object at 0x000002CC88CFAA40>, <sqlite3.Row object at 0x000002CC88CFB430>, <sqlite3.Row object at 0x000002CC88CF8040>, <sqlite3.Row object at 0x000002CC88CFBD60>, <sqlite3.Row object at 0x000002CC88CF8820>, <sqlite3.Row object at 0x000002CC88CF8070>, <sqlite3.Row object at 0x000002CC88CF82E0>, <sqlite3.Row object at 0x000002CC88CFB400>, <sqlite3.Row object at 0x000002CC88CF8A00>, <sqlite3.Row object at 0x000002CC88CF8AC0>, <sqlite3.Row object at 0x000002CC88CF9AB0>, <sqlite3.Row object at 0x000002CC88CF8940>, <sqlite3.Row object at 0x000002CC88CFB610>, <sqlite3.Row object at 0x000002CC88CFB7C0>, <sqlite3.Row object at 0x000002CC88CFB460>, <sqlite3.Row object at 0x000002CC88CF80A0>, <sqlite3.Row object at 0x000002CC88CFB280>, <sqlite3.Row object at 0x000002CC88CFB2E0>, <sqlite3.Row object at 0x000002CC88CFB340>, <sqlite3.Row object at 0x000002CC88CFBB80>, <sqlite3.Row object at 0x000002CC88CFBBE0>, <sqlite3.Row object at 0x000002CC88CFB8B0>, <sqlite3.Row object at 0x000002CC88CFB850>, <sqlite3.Row object at 0x000002CC88CF8B20>, <sqlite3.Row object at 0x000002CC88CFBFD0>, <sqlite3.Row object at 0x000002CC889FF0A0>, <sqlite3.Row object at 0x000002CC889FDDE0>, <sqlite3.Row object at 0x000002CC889FD840>, <sqlite3.Row object at 0x000002CC889FF160>, <sqlite3.Row object at 0x000002CC889FD720>, <sqlite3.Row object at 0x000002CC889FD570>, <sqlite3.Row object at 0x000002CC889FDA20>, <sqlite3.Row object at 0x000002CC889FDC60>, <sqlite3.Row object at 0x000002CC889FD6F0>, <sqlite3.Row object at 0x000002CC88D50040>, <sqlite3.Row object at 0x000002CC88D500A0>, <sqlite3.Row object at 0x000002CC88D50100>, <sqlite3.Row object at 0x000002CC88D50160>, <sqlite3.Row object at 0x000002CC88D501C0>, <sqlite3.Row object at 0x000002CC88D50220>, <sqlite3.Row object at 0x000002CC88D50280>, <sqlite3.Row object at 0x000002CC88D502E0>, <sqlite3.Row object at 0x000002CC88D50340>, <sqlite3.Row object at 0x000002CC88D503A0>, <sqlite3.Row object at 0x000002CC88D50400>, <sqlite3.Row object at 0x000002CC88D50460>, <sqlite3.Row object at 0x000002CC88D504C0>, <sqlite3.Row object at 0x000002CC88D50520>, <sqlite3.Row object at 0x000002CC88D50580>, <sqlite3.Row object at 0x000002CC88D505E0>, <sqlite3.Row object at 0x000002CC88D50640>, <sqlite3.Row object at 0x000002CC88D506A0>, <sqlite3.Row object at 0x000002CC88D50700>, <sqlite3.Row object at 0x000002CC88D50760>, <sqlite3.Row object at 0x000002CC88D507C0>, <sqlite3.Row object at 0x000002CC88D50820>, <sqlite3.Row object at 0x000002CC88D50880>, <sqlite3.Row object at 0x000002CC88D508E0>, <sqlite3.Row object at 0x000002CC88D50940>, <sqlite3.Row object at 0x000002CC88D509A0>, <sqlite3.Row object at 0x000002CC88D50A00>, <sqlite3.Row object at 0x000002CC88D50A60>, <sqlite3.Row object at 0x000002CC88D50AC0>, <sqlite3.Row object at 0x000002CC88D50B20>, <sqlite3.Row object at 0x000002CC88D50B80>, <sqlite3.Row object at 0x000002CC88D50BE0>, <sqlite3.Row object at 0x000002CC88D50C40>, <sqlite3.Row object at 0x000002CC88D50CA0>, <sqlite3.Row object at 0x000002CC88D50D00>, <sqlite3.Row object at 0x000002CC88D50D60>, <sqlite3.Row object at 0x000002CC88D50DF0>, <sqlite3.Row object at 0x000002CC88D50E50>, <sqlite3.Row object at 0x000002CC88D50EB0>, <sqlite3.Row object at 0x000002CC88D50F10>, <sqlite3.Row object at 0x000002CC88D50F70>, <sqlite3.Row object at 0x000002CC88D50FD0>, <sqlite3.Row object at 0x000002CC88D51030>, <sqlite3.Row object at 0x000002CC88D51090>, <sqlite3.Row object at 0x000002CC88D510F0>, <sqlite3.Row object at 0x000002CC88D51150>, <sqlite3.Row object at 0x000002CC88D511B0>, <sqlite3.Row object at 0x000002CC88D51210>, <sqlite3.Row object at 0x000002CC88D51270>, <sqlite3.Row object at 0x000002CC88D512D0>, <sqlite3.Row object at 0x000002CC88D51330>, <sqlite3.Row object at 0x000002CC88D51390>, <sqlite3.Row object at 0x000002CC88D513F0>, <sqlite3.Row object at 0x000002CC88D51450>, <sqlite3.Row object at 0x000002CC88D514B0>, <sqlite3.Row object at 0x000002CC88D51510>, <sqlite3.Row object at 0x000002CC88D51570>, <sqlite3.Row object at 0x000002CC88D515D0>, <sqlite3.Row object at 0x000002CC88D51630>, <sqlite3.Row object at 0x000002CC88D51690>, <sqlite3.Row object at 0x000002CC88D516F0>, <sqlite3.Row object at 0x000002CC88D51750>, <sqlite3.Row object at 0x000002CC88D517B0>]\n"
     ]
    }
   ],
   "source": [
    "cur.execute(\"SELECT name FROM sqlite_master WHERE type='table'\")\n",
    "print(cur.fetchall())\n",
    "cur.execute(\"SELECT name FROM db_2.sqlite_master\")\n",
    "print(cur.fetchall())\n",
    "cur.execute(\"SELECT name FROM db_3.sqlite_master\")\n",
    "print(cur.fetchall())"
   ]
  },
  {
   "cell_type": "code",
   "execution_count": 4,
   "metadata": {},
   "outputs": [
    {
     "name": "stdout",
     "output_type": "stream",
     "text": [
      "['rowid', 'id', 'json', 'readStatus', 'expires_at', 'sent_at', 'schemaVersion', 'conversationId', 'received_at', 'source', 'hasAttachments', 'hasFileAttachments', 'hasVisualMediaAttachments', 'expireTimer', 'expirationStartTimestamp', 'type', 'body', 'messageTimer', 'messageTimerStart', 'messageTimerExpiresAt', 'isErased', 'isViewOnce', 'sourceUuid', 'serverGuid', 'sourceDevice', 'storyId', 'isStory', 'isChangeCreatedByUs', 'isTimerChangeFromSync', 'isGroupLeaveEvent', 'isGroupLeaveEventFromOther', 'seenStatus', 'storyDistributionListId', 'callId', 'callMode', 'expiresAt', 'shouldAffectActivity', 'shouldAffectPreview', 'isUserInitiatedMessage', 'rowid', 'id', 'json', 'readStatus', 'expires_at', 'sent_at', 'schemaVersion', 'conversationId', 'received_at', 'source', 'deprecatedSourceDevice', 'hasAttachments', 'hasFileAttachments', 'hasVisualMediaAttachments', 'expireTimer', 'expirationStartTimestamp', 'type', 'body', 'messageTimer', 'messageTimerStart', 'messageTimerExpiresAt', 'isErased', 'isViewOnce', 'sourceUuid', 'serverGuid', 'expiresAt', 'sourceDevice', 'rowid', 'id', 'json', 'readStatus', 'expires_at', 'sent_at', 'schemaVersion', 'conversationId', 'received_at', 'source', 'hasAttachments', 'hasFileAttachments', 'hasVisualMediaAttachments', 'expireTimer', 'expirationStartTimestamp', 'type', 'body', 'messageTimer', 'messageTimerStart', 'messageTimerExpiresAt', 'isErased', 'isViewOnce', 'sourceUuid', 'serverGuid', 'sourceDevice', 'storyId', 'isStory', 'isChangeCreatedByUs', 'isTimerChangeFromSync', 'isGroupLeaveEvent', 'isGroupLeaveEventFromOther', 'seenStatus', 'storyDistributionListId', 'callId', 'callMode', 'expiresAt', 'shouldAffectActivity', 'shouldAffectPreview', 'isUserInitiatedMessage']\n"
     ]
    }
   ],
   "source": [
    "query = \"\"\"\n",
    "    SELECT * from messages, db_2.messages, db_3.messages\n",
    "    \"\"\"\n",
    "cur.execute(query)\n",
    "print(cur.fetchone().keys())"
   ]
  },
  {
   "cell_type": "code",
   "execution_count": 5,
   "metadata": {},
   "outputs": [
    {
     "name": "stdout",
     "output_type": "stream",
     "text": [
      "109222 total messages.\n",
      "84340 unique messages.\n"
     ]
    }
   ],
   "source": [
    "query = \"\"\"\n",
    "    SELECT 'messages' AS table_name, COUNT(*) FROM messages\n",
    "    UNION\n",
    "    SELECT 'db_2.messages' AS table_name, COUNT(*) FROM db_2.messages\n",
    "    UNION\n",
    "    SELECT 'db_3.messages' AS table_name, COUNT(*) FROM db_3.messages\n",
    "\"\"\"\n",
    "\n",
    "cur.execute(query)\n",
    "sum = 0\n",
    "for count in cur.fetchall():\n",
    "    sum += count['COUNT(*)']\n",
    "print(str(sum) + \" total messages.\")\n",
    "\n",
    "query = \"\"\"\n",
    "    SELECT COUNT(*) FROM (\n",
    "        SELECT sent_at FROM messages\n",
    "        UNION\n",
    "        SELECT sent_at FROM db_2.messages\n",
    "        UNION\n",
    "        SELECT sent_at FROM db_3.messages\n",
    "    ) AS derived;\n",
    "\"\"\"\n",
    "\n",
    "cur.execute(query)\n",
    "unique = cur.fetchone()['COUNT(*)']\n",
    "print(str(unique) + \" unique messages.\")"
   ]
  },
  {
   "cell_type": "code",
   "execution_count": 14,
   "metadata": {},
   "outputs": [
    {
     "data": {
      "text/plain": [
       "<sqlite3.Cursor at 0x2cc88c865c0>"
      ]
     },
     "execution_count": 14,
     "metadata": {},
     "output_type": "execute_result"
    }
   ],
   "source": [
    "query = \"\"\"\n",
    "WITH combined_messages AS (\n",
    "    SELECT m.sent_at, m.rowid, m.id, m.json, m.readStatus, c.name AS conversationName, co.profileName, m.received_at, m.source, m.hasAttachments, m.hasFileAttachments, m.hasVisualMediaAttachments, m.type, m.body, m.isChangeCreatedByUs, m.isUserInitiatedMessage\n",
    "    FROM messages AS m\n",
    "    INNER JOIN conversations AS c ON m.conversationId = c.id\n",
    "    INNER JOIN conversations AS co ON m.sourceUuid = co.uuid\n",
    "    WHERE c.type = 'group'\n",
    "    UNION\n",
    "    SELECT m.sent_at, m.rowid, m.id, m.json, m.readStatus, c.name AS conversationName, co.profileName, m.received_at, m.source, m.hasAttachments, m.hasFileAttachments, m.hasVisualMediaAttachments, m.type, m.body, NULL AS isChangeCreatedByUs, NULL AS isUserInitiatedMessage\n",
    "    FROM db_2.messages AS m\n",
    "    INNER JOIN db_2.conversations AS c ON m.conversationId = c.id\n",
    "    INNER JOIN db_2.conversations AS co ON m.sourceUuid = co.uuid\n",
    "    WHERE c.type = 'group'\n",
    "    UNION\n",
    "    SELECT m.sent_at, m.rowid, m.id, m.json, m.readStatus, c.name AS conversationName, co.profileName, m.received_at, m.source, m.hasAttachments, m.hasFileAttachments, m.hasVisualMediaAttachments, m.type, m.body, m.isChangeCreatedByUs, m.isUserInitiatedMessage\n",
    "    FROM db_3.messages AS m\n",
    "    INNER JOIN db_3.conversations AS c ON m.conversationId = c.id\n",
    "    INNER JOIN db_3.conversations AS co ON m.sourceUuid = co.uuid\n",
    "    WHERE c.type = 'group'\n",
    ")\n",
    "SELECT *\n",
    "FROM (\n",
    "    SELECT cm.*,\n",
    "        ROW_NUMBER() OVER (PARTITION BY cm.sent_at ORDER BY cm.sent_at) AS row_num\n",
    "    FROM combined_messages AS cm\n",
    ") AS numbered_messages\n",
    "WHERE conversationName IS NOT NULL\n",
    "    AND type IN ('incoming', 'outgoing')\n",
    "    AND row_num = 1\n",
    "ORDER BY sent_at;\n",
    "\"\"\"\n",
    "\n",
    "cur.execute(query)"
   ]
  },
  {
   "cell_type": "code",
   "execution_count": null,
   "metadata": {},
   "outputs": [],
   "source": [
    "for i in range(10):\n",
    "    row = cur.fetchone()\n",
    "    display(dict(row))"
   ]
  }
 ],
 "metadata": {
  "kernelspec": {
   "display_name": "Python 3",
   "language": "python",
   "name": "python3"
  },
  "language_info": {
   "codemirror_mode": {
    "name": "ipython",
    "version": 3
   },
   "file_extension": ".py",
   "mimetype": "text/x-python",
   "name": "python",
   "nbconvert_exporter": "python",
   "pygments_lexer": "ipython3",
   "version": "3.10.11"
  },
  "orig_nbformat": 4
 },
 "nbformat": 4,
 "nbformat_minor": 2
}
