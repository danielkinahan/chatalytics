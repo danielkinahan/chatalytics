{
 "cells": [
  {
   "cell_type": "code",
   "execution_count": 1,
   "metadata": {},
   "outputs": [],
   "source": [
    "import sqlite3\n",
    "import json"
   ]
  },
  {
   "cell_type": "code",
   "execution_count": 2,
   "metadata": {},
   "outputs": [],
   "source": [
    "con = sqlite3.connect(\"db_20191123-20221018.sqlite\")\n",
    "con.execute(\"ATTACH 'db_20200825-20211226.sqlite' as db_2\")\n",
    "con.execute(\"ATTACH 'db_20220104-20230518.sqlite' as db_3\")\n",
    "con.row_factory = sqlite3.Row\n",
    "cur = con.cursor()\n"
   ]
  },
  {
   "cell_type": "code",
   "execution_count": 3,
   "metadata": {},
   "outputs": [
    {
     "name": "stdout",
     "output_type": "stream",
     "text": [
      "[<sqlite3.Row object at 0x0000025FBE3FB7C0>, <sqlite3.Row object at 0x0000025FBE3FBB50>, <sqlite3.Row object at 0x0000025FBE3F9000>, <sqlite3.Row object at 0x0000025FBE3FBC70>, <sqlite3.Row object at 0x0000025FBE3FB8E0>, <sqlite3.Row object at 0x0000025FBE3FB760>, <sqlite3.Row object at 0x0000025FBE3FA410>, <sqlite3.Row object at 0x0000025FBE3F9090>, <sqlite3.Row object at 0x0000025FBE3FB1F0>, <sqlite3.Row object at 0x0000025FBE3FB580>, <sqlite3.Row object at 0x0000025FBE3F90C0>, <sqlite3.Row object at 0x0000025FBE3FB220>, <sqlite3.Row object at 0x0000025FBE3FBFD0>, <sqlite3.Row object at 0x0000025FBE3FBBB0>, <sqlite3.Row object at 0x0000025FBE3FB700>, <sqlite3.Row object at 0x0000025FBE3FBC10>, <sqlite3.Row object at 0x0000025FBE3F8670>, <sqlite3.Row object at 0x0000025FBE3FAE00>, <sqlite3.Row object at 0x0000025FBE3F8190>, <sqlite3.Row object at 0x0000025FBE3F9CC0>, <sqlite3.Row object at 0x0000025FBE3F82B0>, <sqlite3.Row object at 0x0000025FBE3FB3D0>, <sqlite3.Row object at 0x0000025FBE3FB490>, <sqlite3.Row object at 0x0000025FBE3FBCD0>, <sqlite3.Row object at 0x0000025FBE3FB8B0>, <sqlite3.Row object at 0x0000025FBE3FBA30>, <sqlite3.Row object at 0x0000025FBE3FBA90>, <sqlite3.Row object at 0x0000025FBE3FBAF0>, <sqlite3.Row object at 0x0000025FBE3F98D0>, <sqlite3.Row object at 0x0000025FBE3FB640>, <sqlite3.Row object at 0x0000025FBE3F8220>, <sqlite3.Row object at 0x0000025FBE3F87C0>, <sqlite3.Row object at 0x0000025FBE397B80>, <sqlite3.Row object at 0x0000025FBE397C10>, <sqlite3.Row object at 0x0000025FBE397C40>]\n",
      "[<sqlite3.Row object at 0x0000025FBE3FB7C0>, <sqlite3.Row object at 0x0000025FBE3FB4F0>, <sqlite3.Row object at 0x0000025FBE3F9000>, <sqlite3.Row object at 0x0000025FBE3FBC70>, <sqlite3.Row object at 0x0000025FBE3FB8E0>, <sqlite3.Row object at 0x0000025FBE3FB760>, <sqlite3.Row object at 0x0000025FBE3FA410>, <sqlite3.Row object at 0x0000025FBE3F9090>, <sqlite3.Row object at 0x0000025FBE3FB1F0>, <sqlite3.Row object at 0x0000025FBE3FB580>, <sqlite3.Row object at 0x0000025FBE3F90C0>, <sqlite3.Row object at 0x0000025FBE3FB220>, <sqlite3.Row object at 0x0000025FBE3FBFD0>, <sqlite3.Row object at 0x0000025FBE3FBBB0>, <sqlite3.Row object at 0x0000025FBE3FB700>, <sqlite3.Row object at 0x0000025FBE3FBC10>, <sqlite3.Row object at 0x0000025FBE3F8670>, <sqlite3.Row object at 0x0000025FBE3FAE00>, <sqlite3.Row object at 0x0000025FBE3F8190>, <sqlite3.Row object at 0x0000025FBE3F9CC0>, <sqlite3.Row object at 0x0000025FBE3F82B0>, <sqlite3.Row object at 0x0000025FBE3FB3D0>, <sqlite3.Row object at 0x0000025FBE3FB490>, <sqlite3.Row object at 0x0000025FBE3FBCD0>, <sqlite3.Row object at 0x0000025FBE3FB8B0>, <sqlite3.Row object at 0x0000025FBE3FBA30>, <sqlite3.Row object at 0x0000025FBE3FBA90>, <sqlite3.Row object at 0x0000025FBE3FBAF0>, <sqlite3.Row object at 0x0000025FBE3F98D0>, <sqlite3.Row object at 0x0000025FBE3FB640>, <sqlite3.Row object at 0x0000025FBE3F8220>, <sqlite3.Row object at 0x0000025FBE3F87C0>, <sqlite3.Row object at 0x0000025FBE397B80>, <sqlite3.Row object at 0x0000025FBE397C10>, <sqlite3.Row object at 0x0000025FBE397C40>, <sqlite3.Row object at 0x0000025FBE397FA0>, <sqlite3.Row object at 0x0000025FBE2F98D0>, <sqlite3.Row object at 0x0000025FBE2FAE90>, <sqlite3.Row object at 0x0000025FBE2FADD0>, <sqlite3.Row object at 0x0000025FBE2FB760>, <sqlite3.Row object at 0x0000025FBE2F96C0>, <sqlite3.Row object at 0x0000025FBE2FB0D0>, <sqlite3.Row object at 0x0000025FBE2F97E0>, <sqlite3.Row object at 0x0000025FBE2F9690>, <sqlite3.Row object at 0x0000025FBE2F9990>, <sqlite3.Row object at 0x0000025FBE2FBA90>, <sqlite3.Row object at 0x0000025FBDD763E0>, <sqlite3.Row object at 0x0000025FBE650070>, <sqlite3.Row object at 0x0000025FBE6500D0>, <sqlite3.Row object at 0x0000025FBE650130>, <sqlite3.Row object at 0x0000025FBE650190>, <sqlite3.Row object at 0x0000025FBE6501F0>, <sqlite3.Row object at 0x0000025FBE650250>, <sqlite3.Row object at 0x0000025FBE6502B0>, <sqlite3.Row object at 0x0000025FBE650310>, <sqlite3.Row object at 0x0000025FBE650370>, <sqlite3.Row object at 0x0000025FBE6503D0>, <sqlite3.Row object at 0x0000025FBE650430>, <sqlite3.Row object at 0x0000025FBE650490>, <sqlite3.Row object at 0x0000025FBE6504F0>, <sqlite3.Row object at 0x0000025FBE650550>, <sqlite3.Row object at 0x0000025FBE6505B0>, <sqlite3.Row object at 0x0000025FBE650610>, <sqlite3.Row object at 0x0000025FBE650670>, <sqlite3.Row object at 0x0000025FBE6506D0>, <sqlite3.Row object at 0x0000025FBE650730>, <sqlite3.Row object at 0x0000025FBE650790>, <sqlite3.Row object at 0x0000025FBE6507F0>, <sqlite3.Row object at 0x0000025FBE650850>, <sqlite3.Row object at 0x0000025FBE6508B0>, <sqlite3.Row object at 0x0000025FBE650910>, <sqlite3.Row object at 0x0000025FBE650970>, <sqlite3.Row object at 0x0000025FBE6509D0>, <sqlite3.Row object at 0x0000025FBE650A30>, <sqlite3.Row object at 0x0000025FBE650A90>, <sqlite3.Row object at 0x0000025FBE650AF0>, <sqlite3.Row object at 0x0000025FBE650B50>, <sqlite3.Row object at 0x0000025FBE650BB0>, <sqlite3.Row object at 0x0000025FBE650C10>, <sqlite3.Row object at 0x0000025FBE650C70>, <sqlite3.Row object at 0x0000025FBE650CD0>, <sqlite3.Row object at 0x0000025FBE650D30>]\n",
      "[<sqlite3.Row object at 0x0000025FBE3FB7C0>, <sqlite3.Row object at 0x0000025FBE3F8070>, <sqlite3.Row object at 0x0000025FBE3F9000>, <sqlite3.Row object at 0x0000025FBE3FBC70>, <sqlite3.Row object at 0x0000025FBE3FB8E0>, <sqlite3.Row object at 0x0000025FBE3FB760>, <sqlite3.Row object at 0x0000025FBE3FA410>, <sqlite3.Row object at 0x0000025FBE3F9090>, <sqlite3.Row object at 0x0000025FBE3FB1F0>, <sqlite3.Row object at 0x0000025FBE3FB580>, <sqlite3.Row object at 0x0000025FBE3F90C0>, <sqlite3.Row object at 0x0000025FBE3FB220>, <sqlite3.Row object at 0x0000025FBE3FBFD0>, <sqlite3.Row object at 0x0000025FBE3FBBB0>, <sqlite3.Row object at 0x0000025FBE3FB700>, <sqlite3.Row object at 0x0000025FBE3FBC10>, <sqlite3.Row object at 0x0000025FBE3F8670>, <sqlite3.Row object at 0x0000025FBE3FAE00>, <sqlite3.Row object at 0x0000025FBE3F8190>, <sqlite3.Row object at 0x0000025FBE3F9CC0>, <sqlite3.Row object at 0x0000025FBE3F82B0>, <sqlite3.Row object at 0x0000025FBE3FB3D0>, <sqlite3.Row object at 0x0000025FBE3FB490>, <sqlite3.Row object at 0x0000025FBE3FBCD0>, <sqlite3.Row object at 0x0000025FBE3FB8B0>, <sqlite3.Row object at 0x0000025FBE3FBA30>, <sqlite3.Row object at 0x0000025FBE3FBA90>, <sqlite3.Row object at 0x0000025FBE3FBAF0>, <sqlite3.Row object at 0x0000025FBE3F98D0>, <sqlite3.Row object at 0x0000025FBE3FB640>, <sqlite3.Row object at 0x0000025FBE3F8220>, <sqlite3.Row object at 0x0000025FBE3F87C0>, <sqlite3.Row object at 0x0000025FBE397B80>, <sqlite3.Row object at 0x0000025FBE397C10>, <sqlite3.Row object at 0x0000025FBE397C40>, <sqlite3.Row object at 0x0000025FBE397FA0>, <sqlite3.Row object at 0x0000025FBE2F98D0>, <sqlite3.Row object at 0x0000025FBE2FAE90>, <sqlite3.Row object at 0x0000025FBE2FADD0>, <sqlite3.Row object at 0x0000025FBE2FB760>, <sqlite3.Row object at 0x0000025FBE2F96C0>, <sqlite3.Row object at 0x0000025FBE2FB0D0>, <sqlite3.Row object at 0x0000025FBE2F97E0>, <sqlite3.Row object at 0x0000025FBE2F9690>, <sqlite3.Row object at 0x0000025FBE2F9990>, <sqlite3.Row object at 0x0000025FBE2FBA90>, <sqlite3.Row object at 0x0000025FBDD763E0>, <sqlite3.Row object at 0x0000025FBE650070>, <sqlite3.Row object at 0x0000025FBE6500D0>, <sqlite3.Row object at 0x0000025FBE650130>, <sqlite3.Row object at 0x0000025FBE650190>, <sqlite3.Row object at 0x0000025FBE6501F0>, <sqlite3.Row object at 0x0000025FBE650250>, <sqlite3.Row object at 0x0000025FBE6502B0>, <sqlite3.Row object at 0x0000025FBE650310>, <sqlite3.Row object at 0x0000025FBE650370>, <sqlite3.Row object at 0x0000025FBE6503D0>, <sqlite3.Row object at 0x0000025FBE650430>, <sqlite3.Row object at 0x0000025FBE650490>, <sqlite3.Row object at 0x0000025FBE6504F0>, <sqlite3.Row object at 0x0000025FBE650550>, <sqlite3.Row object at 0x0000025FBE6505B0>, <sqlite3.Row object at 0x0000025FBE650610>, <sqlite3.Row object at 0x0000025FBE650670>, <sqlite3.Row object at 0x0000025FBE6506D0>, <sqlite3.Row object at 0x0000025FBE650730>, <sqlite3.Row object at 0x0000025FBE650790>, <sqlite3.Row object at 0x0000025FBE6507F0>, <sqlite3.Row object at 0x0000025FBE650850>, <sqlite3.Row object at 0x0000025FBE6508B0>, <sqlite3.Row object at 0x0000025FBE650910>, <sqlite3.Row object at 0x0000025FBE650970>, <sqlite3.Row object at 0x0000025FBE6509D0>, <sqlite3.Row object at 0x0000025FBE650A30>, <sqlite3.Row object at 0x0000025FBE650A90>, <sqlite3.Row object at 0x0000025FBE650AF0>, <sqlite3.Row object at 0x0000025FBE650B50>, <sqlite3.Row object at 0x0000025FBE650BB0>, <sqlite3.Row object at 0x0000025FBE650C10>, <sqlite3.Row object at 0x0000025FBE650C70>, <sqlite3.Row object at 0x0000025FBE650CD0>, <sqlite3.Row object at 0x0000025FBE650D60>, <sqlite3.Row object at 0x0000025FBE650DC0>, <sqlite3.Row object at 0x0000025FBE650E20>, <sqlite3.Row object at 0x0000025FBE650E80>, <sqlite3.Row object at 0x0000025FBE650EE0>, <sqlite3.Row object at 0x0000025FBE650F40>, <sqlite3.Row object at 0x0000025FBE650FA0>, <sqlite3.Row object at 0x0000025FBE651000>, <sqlite3.Row object at 0x0000025FBE651060>, <sqlite3.Row object at 0x0000025FBE6510C0>, <sqlite3.Row object at 0x0000025FBE651120>, <sqlite3.Row object at 0x0000025FBE651180>, <sqlite3.Row object at 0x0000025FBE6511E0>, <sqlite3.Row object at 0x0000025FBE651240>, <sqlite3.Row object at 0x0000025FBE6512A0>, <sqlite3.Row object at 0x0000025FBE651300>, <sqlite3.Row object at 0x0000025FBE651360>, <sqlite3.Row object at 0x0000025FBE6513C0>, <sqlite3.Row object at 0x0000025FBE651420>, <sqlite3.Row object at 0x0000025FBE651480>, <sqlite3.Row object at 0x0000025FBE6514E0>, <sqlite3.Row object at 0x0000025FBE651540>, <sqlite3.Row object at 0x0000025FBE6515A0>, <sqlite3.Row object at 0x0000025FBE651600>, <sqlite3.Row object at 0x0000025FBE651660>, <sqlite3.Row object at 0x0000025FBE6516C0>, <sqlite3.Row object at 0x0000025FBE651720>]\n"
     ]
    }
   ],
   "source": [
    "cur.execute(\"SELECT name FROM sqlite_master WHERE type='table'\")\n",
    "print(cur.fetchall())\n",
    "cur.execute(\"SELECT name FROM db_2.sqlite_master\")\n",
    "print(cur.fetchall())\n",
    "cur.execute(\"SELECT name FROM db_3.sqlite_master\")\n",
    "print(cur.fetchall())"
   ]
  },
  {
   "cell_type": "code",
   "execution_count": 34,
   "metadata": {},
   "outputs": [
    {
     "name": "stdout",
     "output_type": "stream",
     "text": [
      "['rowid', 'id', 'json', 'readStatus', 'expires_at', 'sent_at', 'schemaVersion', 'conversationId', 'received_at', 'source', 'hasAttachments', 'hasFileAttachments', 'hasVisualMediaAttachments', 'expireTimer', 'expirationStartTimestamp', 'type', 'body', 'messageTimer', 'messageTimerStart', 'messageTimerExpiresAt', 'isErased', 'isViewOnce', 'sourceUuid', 'serverGuid', 'sourceDevice', 'storyId', 'isStory', 'isChangeCreatedByUs', 'isTimerChangeFromSync', 'isGroupLeaveEvent', 'isGroupLeaveEventFromOther', 'seenStatus', 'storyDistributionListId', 'callId', 'callMode', 'expiresAt', 'shouldAffectActivity', 'shouldAffectPreview', 'isUserInitiatedMessage']\n"
     ]
    }
   ],
   "source": [
    "query = \"\"\"\n",
    "    SELECT * from messages, db_2.messages, db_3.messages\n",
    "    \"\"\"\n",
    "cur.execute(query)\n",
    "print(cur.fetchone().keys())"
   ]
  },
  {
   "cell_type": "code",
   "execution_count": 42,
   "metadata": {},
   "outputs": [
    {
     "name": "stdout",
     "output_type": "stream",
     "text": [
      "109222 total messages.\n",
      "84340 unique messages.\n"
     ]
    }
   ],
   "source": [
    "query = \"\"\"\n",
    "    SELECT 'messages' AS table_name, COUNT(*) FROM messages\n",
    "    UNION\n",
    "    SELECT 'db_2.messages' AS table_name, COUNT(*) FROM db_2.messages\n",
    "    UNION\n",
    "    SELECT 'db_3.messages' AS table_name, COUNT(*) FROM db_3.messages\n",
    "\"\"\"\n",
    "\n",
    "cur.execute(query)\n",
    "sum = 0\n",
    "for count in cur.fetchall():\n",
    "    sum += count['COUNT(*)']\n",
    "print(str(sum) + \" total messages.\")\n",
    "\n",
    "query = \"\"\"\n",
    "    SELECT COUNT(*) FROM (\n",
    "        SELECT sent_at FROM messages\n",
    "        UNION\n",
    "        SELECT sent_at FROM db_2.messages\n",
    "        UNION\n",
    "        SELECT sent_at FROM db_3.messages\n",
    "    ) AS derived;\n",
    "\"\"\"\n",
    "\n",
    "cur.execute(query)\n",
    "unique = cur.fetchone()['COUNT(*)']\n",
    "print(str(unique) + \" unique messages.\")"
   ]
  },
  {
   "cell_type": "code",
   "execution_count": 51,
   "metadata": {},
   "outputs": [
    {
     "data": {
      "text/plain": [
       "{'sent_at': 1574559155643,\n",
       " 'rowid': 3,\n",
       " 'id': 'f3c50539-9e20-4d17-8a30-28eff3463cca',\n",
       " 'json': '{\"attachments\":[],\"body\":\"kss?\",\"contact\":[],\"conversationId\":\"ba0a5b7d-02be-46e3-8f47-18ccbe8a1b46\",\"decrypted_at\":1574559156496,\"delivered\":2,\"delivered_to\":[\"+12505752707\",\"+12503177584\"],\"errors\":[],\"expirationStartTimestamp\":1574559155643,\"flags\":0,\"hasAttachments\":0,\"id\":\"f3c50539-9e20-4d17-8a30-28eff3463cca\",\"isViewOnce\":false,\"preview\":[],\"quote\":null,\"read_by\":[\"+12505752707\",\"+12503177584\"],\"received_at\":1574559156493,\"recipients\":[\"+12503177584\",\"+12505752707\"],\"requiredProtocolVersion\":0,\"schemaVersion\":10,\"sent\":true,\"sent_at\":1574559155643,\"sent_to\":[\"+12503177584\",\"+12505752707\"],\"source\":\"+12508631889\",\"sourceDevice\":1,\"sticker\":null,\"supportedVersionAtReceive\":3,\"timestamp\":1574559156493,\"type\":\"outgoing\",\"unidentifiedDeliveries\":[\"+12503177584\"],\"readStatus\":0,\"seenStatus\":2}',\n",
       " 'readStatus': 0,\n",
       " 'conversationId': 'ba0a5b7d-02be-46e3-8f47-18ccbe8a1b46',\n",
       " 'received_at': 1574559156493,\n",
       " 'source': 12508631889,\n",
       " 'hasAttachments': 0,\n",
       " 'hasFileAttachments': None,\n",
       " 'hasVisualMediaAttachments': None,\n",
       " 'type': 'outgoing',\n",
       " 'body': 'kss?',\n",
       " 'isChangeCreatedByUs': 0,\n",
       " 'isUserInitiatedMessage': 1,\n",
       " 'row_num': 1}"
      ]
     },
     "metadata": {},
     "output_type": "display_data"
    },
    {
     "data": {
      "text/plain": [
       "{'sent_at': 1574559167727,\n",
       " 'rowid': 4,\n",
       " 'id': 'f7ac76db-094e-470e-b7ec-2c225d6fc4f8',\n",
       " 'json': '{\"attachments\":[],\"body\":\"wentworth?\",\"contact\":[],\"conversationId\":\"ba0a5b7d-02be-46e3-8f47-18ccbe8a1b46\",\"decrypted_at\":1574559168288,\"delivered\":2,\"delivered_to\":[\"+12505752707\",\"+12503177584\"],\"errors\":[],\"expirationStartTimestamp\":1574559167727,\"flags\":0,\"hasAttachments\":0,\"id\":\"f7ac76db-094e-470e-b7ec-2c225d6fc4f8\",\"isViewOnce\":false,\"preview\":[],\"quote\":null,\"read_by\":[\"+12505752707\",\"+12503177584\"],\"received_at\":1574559168286,\"recipients\":[\"+12503177584\",\"+12505752707\"],\"requiredProtocolVersion\":0,\"schemaVersion\":10,\"sent\":true,\"sent_at\":1574559167727,\"sent_to\":[\"+12503177584\",\"+12505752707\"],\"source\":\"+12508631889\",\"sourceDevice\":1,\"sticker\":null,\"supportedVersionAtReceive\":3,\"timestamp\":1574559168286,\"type\":\"outgoing\",\"unidentifiedDeliveries\":[\"+12503177584\"],\"readStatus\":0,\"seenStatus\":2}',\n",
       " 'readStatus': 0,\n",
       " 'conversationId': 'ba0a5b7d-02be-46e3-8f47-18ccbe8a1b46',\n",
       " 'received_at': 1574559168286,\n",
       " 'source': 12508631889,\n",
       " 'hasAttachments': 0,\n",
       " 'hasFileAttachments': None,\n",
       " 'hasVisualMediaAttachments': None,\n",
       " 'type': 'outgoing',\n",
       " 'body': 'wentworth?',\n",
       " 'isChangeCreatedByUs': 0,\n",
       " 'isUserInitiatedMessage': 1,\n",
       " 'row_num': 1}"
      ]
     },
     "metadata": {},
     "output_type": "display_data"
    },
    {
     "data": {
      "text/plain": [
       "{'sent_at': 1574559518838,\n",
       " 'rowid': 5,\n",
       " 'id': '7e7361d1-529c-49b5-b250-677a6236cd22',\n",
       " 'json': '{\"attachments\":[],\"body\":\"That’ll satisfy me\",\"contact\":[],\"conversationId\":\"ba0a5b7d-02be-46e3-8f47-18ccbe8a1b46\",\"decrypted_at\":1574559519457,\"errors\":[],\"flags\":0,\"hasAttachments\":0,\"id\":\"7e7361d1-529c-49b5-b250-677a6236cd22\",\"isViewOnce\":false,\"preview\":[],\"quote\":null,\"received_at\":1574559519456,\"requiredProtocolVersion\":0,\"schemaVersion\":10,\"sent_at\":1574559518838,\"source\":\"+12505752707\",\"sourceDevice\":1,\"sticker\":null,\"supportedVersionAtReceive\":3,\"timestamp\":1574559519456,\"type\":\"incoming\",\"unidentifiedDeliveryReceived\":true,\"readStatus\":0,\"seenStatus\":0}',\n",
       " 'readStatus': 0,\n",
       " 'conversationId': 'ba0a5b7d-02be-46e3-8f47-18ccbe8a1b46',\n",
       " 'received_at': 1574559519456,\n",
       " 'source': 12505752707,\n",
       " 'hasAttachments': 0,\n",
       " 'hasFileAttachments': None,\n",
       " 'hasVisualMediaAttachments': None,\n",
       " 'type': 'incoming',\n",
       " 'body': 'That’ll satisfy me',\n",
       " 'isChangeCreatedByUs': 0,\n",
       " 'isUserInitiatedMessage': 1,\n",
       " 'row_num': 1}"
      ]
     },
     "metadata": {},
     "output_type": "display_data"
    },
    {
     "data": {
      "text/plain": [
       "{'sent_at': 1574559520701,\n",
       " 'rowid': 6,\n",
       " 'id': '06db70d9-0d8a-4725-acea-ed6b4ce1c7e3',\n",
       " 'json': '{\"attachments\":[],\"body\":\"hey erik!\",\"contact\":[],\"conversationId\":\"ae62bcd9-bd74-4a72-9426-e31dfb761fb9\",\"decrypted_at\":1574559521804,\"delivered\":1,\"delivered_to\":[\"+17783637575\"],\"errors\":[],\"expirationStartTimestamp\":1574559520701,\"flags\":0,\"hasAttachments\":0,\"id\":\"06db70d9-0d8a-4725-acea-ed6b4ce1c7e3\",\"isViewOnce\":false,\"preview\":[],\"quote\":null,\"read_by\":[\"+17783637575\"],\"received_at\":1574559521796,\"recipients\":[\"+17783637575\"],\"requiredProtocolVersion\":0,\"schemaVersion\":10,\"sent\":true,\"sent_at\":1574559520701,\"sent_to\":[\"+17783637575\"],\"source\":\"+12508631889\",\"sourceDevice\":1,\"sticker\":null,\"supportedVersionAtReceive\":3,\"timestamp\":1574559521796,\"type\":\"outgoing\",\"unidentifiedDeliveries\":[],\"readStatus\":0,\"seenStatus\":2}',\n",
       " 'readStatus': 0,\n",
       " 'conversationId': 'ae62bcd9-bd74-4a72-9426-e31dfb761fb9',\n",
       " 'received_at': 1574559521796,\n",
       " 'source': 12508631889,\n",
       " 'hasAttachments': 0,\n",
       " 'hasFileAttachments': None,\n",
       " 'hasVisualMediaAttachments': None,\n",
       " 'type': 'outgoing',\n",
       " 'body': 'hey erik!',\n",
       " 'isChangeCreatedByUs': 0,\n",
       " 'isUserInitiatedMessage': 1,\n",
       " 'row_num': 1}"
      ]
     },
     "metadata": {},
     "output_type": "display_data"
    },
    {
     "data": {
      "text/plain": [
       "{'sent_at': 1574559526921,\n",
       " 'rowid': 7,\n",
       " 'id': '9a70a39f-ac69-41ff-bc53-48ba0d135507',\n",
       " 'json': '{\"attachments\":[],\"body\":\"Ben what’re you allergic to\",\"contact\":[],\"conversationId\":\"ba0a5b7d-02be-46e3-8f47-18ccbe8a1b46\",\"decrypted_at\":1574559527505,\"errors\":[],\"flags\":0,\"hasAttachments\":0,\"id\":\"9a70a39f-ac69-41ff-bc53-48ba0d135507\",\"isViewOnce\":false,\"preview\":[],\"quote\":null,\"received_at\":1574559527505,\"requiredProtocolVersion\":0,\"schemaVersion\":10,\"sent_at\":1574559526921,\"source\":\"+12505752707\",\"sourceDevice\":1,\"sticker\":null,\"supportedVersionAtReceive\":3,\"timestamp\":1574559527505,\"type\":\"incoming\",\"unidentifiedDeliveryReceived\":true,\"readStatus\":0,\"seenStatus\":0}',\n",
       " 'readStatus': 0,\n",
       " 'conversationId': 'ba0a5b7d-02be-46e3-8f47-18ccbe8a1b46',\n",
       " 'received_at': 1574559527505,\n",
       " 'source': 12505752707,\n",
       " 'hasAttachments': 0,\n",
       " 'hasFileAttachments': None,\n",
       " 'hasVisualMediaAttachments': None,\n",
       " 'type': 'incoming',\n",
       " 'body': 'Ben what’re you allergic to',\n",
       " 'isChangeCreatedByUs': 0,\n",
       " 'isUserInitiatedMessage': 1,\n",
       " 'row_num': 1}"
      ]
     },
     "metadata": {},
     "output_type": "display_data"
    },
    {
     "data": {
      "text/plain": [
       "{'sent_at': 1574559574014,\n",
       " 'rowid': 9,\n",
       " 'id': 'd77468dd-1e6f-4c79-b8a7-0cb35c30f048',\n",
       " 'json': '{\"attachments\":[],\"body\":\"oh for verification\",\"contact\":[],\"conversationId\":\"ba0a5b7d-02be-46e3-8f47-18ccbe8a1b46\",\"decrypted_at\":1574559574630,\"delivered\":2,\"delivered_to\":[\"+12505752707\",\"+12503177584\"],\"errors\":[],\"expirationStartTimestamp\":1574559574014,\"flags\":0,\"hasAttachments\":0,\"id\":\"d77468dd-1e6f-4c79-b8a7-0cb35c30f048\",\"isViewOnce\":false,\"preview\":[],\"quote\":null,\"read_by\":[\"+12505752707\",\"+12503177584\"],\"received_at\":1574559574628,\"recipients\":[\"+12503177584\",\"+12505752707\"],\"requiredProtocolVersion\":0,\"schemaVersion\":10,\"sent\":true,\"sent_at\":1574559574014,\"sent_to\":[\"+12503177584\",\"+12505752707\"],\"source\":\"+12508631889\",\"sourceDevice\":1,\"sticker\":null,\"supportedVersionAtReceive\":3,\"timestamp\":1574559574628,\"type\":\"outgoing\",\"unidentifiedDeliveries\":[\"+12503177584\"],\"readStatus\":0,\"seenStatus\":2}',\n",
       " 'readStatus': 0,\n",
       " 'conversationId': 'ba0a5b7d-02be-46e3-8f47-18ccbe8a1b46',\n",
       " 'received_at': 1574559574628,\n",
       " 'source': 12508631889,\n",
       " 'hasAttachments': 0,\n",
       " 'hasFileAttachments': None,\n",
       " 'hasVisualMediaAttachments': None,\n",
       " 'type': 'outgoing',\n",
       " 'body': 'oh for verification',\n",
       " 'isChangeCreatedByUs': 0,\n",
       " 'isUserInitiatedMessage': 1,\n",
       " 'row_num': 1}"
      ]
     },
     "metadata": {},
     "output_type": "display_data"
    },
    {
     "data": {
      "text/plain": [
       "{'sent_at': 1574559590622,\n",
       " 'rowid': 10,\n",
       " 'id': '7b0e7504-8402-45e6-86d8-78c649dd53b3',\n",
       " 'json': '{\"attachments\":[],\"body\":\"Yeah\",\"contact\":[],\"conversationId\":\"ba0a5b7d-02be-46e3-8f47-18ccbe8a1b46\",\"decrypted_at\":1574559591213,\"errors\":[],\"flags\":0,\"hasAttachments\":0,\"id\":\"7b0e7504-8402-45e6-86d8-78c649dd53b3\",\"isViewOnce\":false,\"preview\":[],\"quote\":null,\"received_at\":1574559591212,\"requiredProtocolVersion\":0,\"schemaVersion\":10,\"sent_at\":1574559590622,\"source\":\"+12505752707\",\"sourceDevice\":1,\"sticker\":null,\"supportedVersionAtReceive\":3,\"timestamp\":1574559591212,\"type\":\"incoming\",\"unidentifiedDeliveryReceived\":true,\"readStatus\":0,\"seenStatus\":0}',\n",
       " 'readStatus': 0,\n",
       " 'conversationId': 'ba0a5b7d-02be-46e3-8f47-18ccbe8a1b46',\n",
       " 'received_at': 1574559591212,\n",
       " 'source': 12505752707,\n",
       " 'hasAttachments': 0,\n",
       " 'hasFileAttachments': None,\n",
       " 'hasVisualMediaAttachments': None,\n",
       " 'type': 'incoming',\n",
       " 'body': 'Yeah',\n",
       " 'isChangeCreatedByUs': 0,\n",
       " 'isUserInitiatedMessage': 1,\n",
       " 'row_num': 1}"
      ]
     },
     "metadata": {},
     "output_type": "display_data"
    },
    {
     "data": {
      "text/plain": [
       "{'sent_at': 1574559599171,\n",
       " 'rowid': 11,\n",
       " 'id': '30fe8466-dcab-42e2-86e2-69ea52f51d90',\n",
       " 'json': '{\"attachments\":[],\"body\":\"Can’t be too careful these days yknow\",\"contact\":[],\"conversationId\":\"ba0a5b7d-02be-46e3-8f47-18ccbe8a1b46\",\"decrypted_at\":1574559599770,\"errors\":[],\"flags\":0,\"hasAttachments\":0,\"id\":\"30fe8466-dcab-42e2-86e2-69ea52f51d90\",\"isViewOnce\":false,\"preview\":[],\"quote\":null,\"received_at\":1574559599769,\"requiredProtocolVersion\":0,\"schemaVersion\":10,\"sent_at\":1574559599171,\"source\":\"+12505752707\",\"sourceDevice\":1,\"sticker\":null,\"supportedVersionAtReceive\":3,\"timestamp\":1574559599769,\"type\":\"incoming\",\"unidentifiedDeliveryReceived\":true,\"readStatus\":0,\"seenStatus\":0}',\n",
       " 'readStatus': 0,\n",
       " 'conversationId': 'ba0a5b7d-02be-46e3-8f47-18ccbe8a1b46',\n",
       " 'received_at': 1574559599769,\n",
       " 'source': 12505752707,\n",
       " 'hasAttachments': 0,\n",
       " 'hasFileAttachments': None,\n",
       " 'hasVisualMediaAttachments': None,\n",
       " 'type': 'incoming',\n",
       " 'body': 'Can’t be too careful these days yknow',\n",
       " 'isChangeCreatedByUs': 0,\n",
       " 'isUserInitiatedMessage': 1,\n",
       " 'row_num': 1}"
      ]
     },
     "metadata": {},
     "output_type": "display_data"
    },
    {
     "data": {
      "text/plain": [
       "{'sent_at': 1574559629977,\n",
       " 'rowid': 12,\n",
       " 'id': 'dcfb0b48-944a-42c9-980a-d9e6ca0d4eb5',\n",
       " 'json': '{\"attachments\":[],\"body\":\"true\",\"contact\":[],\"conversationId\":\"ba0a5b7d-02be-46e3-8f47-18ccbe8a1b46\",\"decrypted_at\":1574559630608,\"delivered\":2,\"delivered_to\":[\"+12505752707\",\"+12503177584\"],\"errors\":[],\"expirationStartTimestamp\":1574559629977,\"flags\":0,\"hasAttachments\":0,\"id\":\"dcfb0b48-944a-42c9-980a-d9e6ca0d4eb5\",\"isViewOnce\":false,\"preview\":[],\"quote\":null,\"read_by\":[\"+12505752707\",\"+12503177584\"],\"received_at\":1574559630606,\"recipients\":[\"+12503177584\",\"+12505752707\"],\"requiredProtocolVersion\":0,\"schemaVersion\":10,\"sent\":true,\"sent_at\":1574559629977,\"sent_to\":[\"+12503177584\",\"+12505752707\"],\"source\":\"+12508631889\",\"sourceDevice\":1,\"sticker\":null,\"supportedVersionAtReceive\":3,\"timestamp\":1574559630606,\"type\":\"outgoing\",\"unidentifiedDeliveries\":[\"+12503177584\"],\"readStatus\":0,\"seenStatus\":2}',\n",
       " 'readStatus': 0,\n",
       " 'conversationId': 'ba0a5b7d-02be-46e3-8f47-18ccbe8a1b46',\n",
       " 'received_at': 1574559630606,\n",
       " 'source': 12508631889,\n",
       " 'hasAttachments': 0,\n",
       " 'hasFileAttachments': None,\n",
       " 'hasVisualMediaAttachments': None,\n",
       " 'type': 'outgoing',\n",
       " 'body': 'true',\n",
       " 'isChangeCreatedByUs': 0,\n",
       " 'isUserInitiatedMessage': 1,\n",
       " 'row_num': 1}"
      ]
     },
     "metadata": {},
     "output_type": "display_data"
    },
    {
     "data": {
      "text/plain": [
       "{'sent_at': 1574560069504,\n",
       " 'rowid': 13,\n",
       " 'id': '61ecf3c8-7196-40d6-b394-1f2c59f27832',\n",
       " 'json': '{\"attachments\":[],\"body\":\"hello dan (secured message)\",\"contact\":[],\"conversationId\":\"ae62bcd9-bd74-4a72-9426-e31dfb761fb9\",\"decrypted_at\":1574560071525,\"errors\":[],\"flags\":0,\"hasAttachments\":0,\"id\":\"61ecf3c8-7196-40d6-b394-1f2c59f27832\",\"isViewOnce\":false,\"preview\":[],\"quote\":null,\"received_at\":1574560071524,\"requiredProtocolVersion\":0,\"schemaVersion\":10,\"sent_at\":1574560069504,\"source\":\"+17783637575\",\"sourceDevice\":1,\"sticker\":null,\"supportedVersionAtReceive\":3,\"timestamp\":1574560071524,\"type\":\"incoming\",\"unidentifiedDeliveryReceived\":true,\"readStatus\":0,\"seenStatus\":0}',\n",
       " 'readStatus': 0,\n",
       " 'conversationId': 'ae62bcd9-bd74-4a72-9426-e31dfb761fb9',\n",
       " 'received_at': 1574560071524,\n",
       " 'source': 17783637575,\n",
       " 'hasAttachments': 0,\n",
       " 'hasFileAttachments': None,\n",
       " 'hasVisualMediaAttachments': None,\n",
       " 'type': 'incoming',\n",
       " 'body': 'hello dan (secured message)',\n",
       " 'isChangeCreatedByUs': 0,\n",
       " 'isUserInitiatedMessage': 1,\n",
       " 'row_num': 1}"
      ]
     },
     "metadata": {},
     "output_type": "display_data"
    }
   ],
   "source": [
    "query = \"\"\"\n",
    "    WITH combined_messages AS (\n",
    "        SELECT sent_at, rowid, id, json, readStatus, conversationId, received_at, source, hasAttachments, hasFileAttachments, hasVisualMediaAttachments, type, body, isChangeCreatedByUs, isUserInitiatedMessage\n",
    "        FROM messages\n",
    "        UNION\n",
    "        SELECT sent_at, rowid, id, json, readStatus, conversationId, received_at, source, hasAttachments, hasFileAttachments, hasVisualMediaAttachments, type, body, NULL as isChangeCreatedByUs, NULL as isUserInitiatedMessage\n",
    "        FROM db_2.messages\n",
    "        UNION\n",
    "        SELECT sent_at, rowid, id, json, readStatus, conversationId, received_at, source, hasAttachments, hasFileAttachments, hasVisualMediaAttachments, type, body, isChangeCreatedByUs, isUserInitiatedMessage\n",
    "        FROM db_3.messages\n",
    "    )\n",
    "    SELECT *\n",
    "    FROM (\n",
    "        SELECT *,\n",
    "            ROW_NUMBER() OVER (PARTITION BY sent_at ORDER BY sent_at) AS row_num\n",
    "        FROM combined_messages\n",
    "    ) AS numbered_messages\n",
    "    WHERE conversationId IN (\n",
    "        SELECT conversationId\n",
    "        FROM conversations\n",
    "        WHERE type = 'group'\n",
    "        UNION\n",
    "        SELECT conversationId\n",
    "        FROM db_2.conversations\n",
    "        WHERE type = 'group'\n",
    "        UNION\n",
    "        SELECT conversationId\n",
    "        FROM db_3.conversations\n",
    "        WHERE type = 'group'\n",
    "    )\n",
    "    AND type IN ('incoming', 'outgoing')\n",
    "    AND row_num = 1\n",
    "    ORDER BY sent_at;\n",
    "\"\"\"\n",
    "\n",
    "cur.execute(query)\n",
    "for i in range(10):\n",
    "    row = cur.fetchone()\n",
    "    display(dict(row))"
   ]
  }
 ],
 "metadata": {
  "kernelspec": {
   "display_name": "Python 3",
   "language": "python",
   "name": "python3"
  },
  "language_info": {
   "codemirror_mode": {
    "name": "ipython",
    "version": 3
   },
   "file_extension": ".py",
   "mimetype": "text/x-python",
   "name": "python",
   "nbconvert_exporter": "python",
   "pygments_lexer": "ipython3",
   "version": "3.10.11"
  },
  "orig_nbformat": 4
 },
 "nbformat": 4,
 "nbformat_minor": 2
}
